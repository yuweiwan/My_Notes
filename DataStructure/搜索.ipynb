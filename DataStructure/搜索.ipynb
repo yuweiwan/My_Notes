{
 "cells": [
  {
   "cell_type": "markdown",
   "metadata": {},
   "source": [
    "## 深搜DFS"
   ]
  },
  {
   "cell_type": "code",
   "execution_count": null,
   "metadata": {},
   "outputs": [],
   "source": [
    "#递归法\n",
    "class Solution1:\n",
    "    def maxDepth(self, root: 'Node') -> int:\n",
    "        if not root: return 0\n",
    "        if root.children:\n",
    "            depth_children=[self.maxDepth(node) for node in root.children]\n",
    "        else:\n",
    "            return 1\n",
    "        return max(depth_children)+1 \n",
    "\n",
    "# 或迭代法\n",
    "class Solution2:\n",
    "    def maxDepth(self, root: 'Node') -> int:\n",
    "        if not root: return 0\n",
    "        final_depth=1\n",
    "        stack=[(root,final_depth)]\n",
    "        while stack:\n",
    "            root,depth=stack.pop()\n",
    "            final_depth=max(final_depth,depth)\n",
    "            if root.children:\n",
    "                for node in root.children: \n",
    "                    stack.append((node,depth+1))\n",
    "        return final_depth\n"
   ]
  },
  {
   "cell_type": "markdown",
   "metadata": {},
   "source": [
    "## 广搜BFS"
   ]
  },
  {
   "cell_type": "code",
   "execution_count": null,
   "metadata": {},
   "outputs": [],
   "source": [
    "# 迭代法\n",
    "class Solution:\n",
    "    def maxDepth(self, root: 'Node') -> int:\n",
    "        if not root: return 0\n",
    "        depth=1\n",
    "        queue=[(root,depth)]\n",
    "        while queue:\n",
    "            root,depth=queue.pop(0)\n",
    "            if root.children:\n",
    "                for node in root.children: \n",
    "                    queue.append((node,depth+1))\n",
    "        return depth\n",
    "\n"
   ]
  }
 ],
 "metadata": {
  "kernelspec": {
   "display_name": "Python 3",
   "language": "python",
   "name": "python3"
  },
  "language_info": {
   "codemirror_mode": {
    "name": "ipython",
    "version": 3
   },
   "file_extension": ".py",
   "mimetype": "text/x-python",
   "name": "python",
   "nbconvert_exporter": "python",
   "pygments_lexer": "ipython3",
   "version": "3.7.6"
  }
 },
 "nbformat": 4,
 "nbformat_minor": 4
}
