{
 "cells": [
  {
   "cell_type": "markdown",
   "metadata": {},
   "source": [
    "# 问题类型\n",
    "\n",
    "## 算法\n",
    "时间复杂度\n",
    "搜索：回溯，递归，剪枝\n",
    "排序：快速排序，归并排序，基数排序\n",
    "图论：最短路径，最小生成树，网络流建模\n",
    "动态规划：背包问题，最长子序列，计数问题\n",
    "技巧类：分治，倍增，二分，贪心<br>\n",
    "\n",
    "## 数据结构\n",
    "### 数组：\n",
    "数组，将元素存储到内存的连续位置中，是最基本的数据结构。<br>\n",
    "优点：如果知道索引就可以通过 O(l) 进行快速搜索。<br>\n",
    "缺点:数组中添加和删除元素的速度会很慢，因为数组一旦被创建，就无法更改其大小。如果需要创建更长或更短的数组，得先创建一个新数组，再把原数组中的元素复制到新创建的数组中。\n",
    "### 链表：\n",
    "和数组相似，链表也是线性的数据结构，每个节点中包含存储的值和下一个节点的地址。与数组不同的是，链表不是将元素存储在连续的位置中，而是可以存储在任意位置，彼此之间通过节点相互连接。<br>\n",
    "优点：链表里添加和删除元素很容易，你只需要更改链接而不用创建新的数组。<br>\n",
    "缺点：搜索会很困难，并且在单链表中找到一个元素就需要 O（n）个时间。<br>\n",
    "链表有多种形式，如：单链表，允许你在一个方向上进行遍历；双链表，可以在两个方向上进行遍历；循环链表，最后节点的指针指向第一个节点从而形成一个环形的链；因为链表是一种递归数据结构，所以在解决链表问题时，熟练掌握递归算法就显得更加重要了。<br>\n",
    "常用思想：快慢针，递归函数，虚拟头结点\n",
    "### 堆，队列，栈：大/小根堆，可并堆\n",
    "### 二叉树\n",
    "树结构是一种将数据进行分层存储的数据结构。<br>\n",
    "常见问题：计算节点数，如何进行遍历（前序遍历、后序遍历、中序遍历和按层遍历），计算深度，判断它们是否平衡。\n",
    "### 字符串\n",
    "和数组类似，但有一些常用代码"
   ]
  },
  {
   "cell_type": "markdown",
   "metadata": {},
   "source": [
    "leetcode初级：https://leetcode-cn.com/leetbook/detail/top-interview-questions-easy/\n",
    "\n",
    "算法和编程面试题精选TOP50： https://www.tinymind.cn/articles/3759"
   ]
  },
  {
   "cell_type": "code",
   "execution_count": null,
   "metadata": {},
   "outputs": [],
   "source": []
  }
 ],
 "metadata": {
  "kernelspec": {
   "display_name": "Python 3",
   "language": "python",
   "name": "python3"
  },
  "language_info": {
   "codemirror_mode": {
    "name": "ipython",
    "version": 3
   },
   "file_extension": ".py",
   "mimetype": "text/x-python",
   "name": "python",
   "nbconvert_exporter": "python",
   "pygments_lexer": "ipython3",
   "version": "3.7.6"
  }
 },
 "nbformat": 4,
 "nbformat_minor": 4
}
