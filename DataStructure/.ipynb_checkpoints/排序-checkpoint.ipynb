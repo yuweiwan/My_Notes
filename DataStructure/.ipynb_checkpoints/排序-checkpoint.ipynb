{
 "cells": [
  {
   "cell_type": "markdown",
   "metadata": {},
   "source": [
    "# QuickSort快速排序\n",
    "思想：分治思想，大的拆成小的，小的拆成更小的。<br>\n",
    "原理：对于给定的记录，选择一个基准数，通过一趟排序后，将原序列分为两部分，使得前面的比后面的小，然后再依次对前后进行拆分进行快速排序，递归该过程，直到序列中所有记录均有序。<br>\n",
    "步骤：<br>\n",
    "分解<br>\n",
    "在R[low:high]中选定一个元素R[pivot]（第一个，最后一个，中间位置，或者这三个的中位数），以此为标准将要排序的序列划分为两个序列R[low:pivot-1]与R[pivot+1：high]，并使序列R[low:pivot-1]中所有元素的值小于等于R[pivot]，序列R[pivot+1：high]所有的值大于R[pivot]，此时基准元素以位于正确位置，它无需参加后续排序。<br>\n",
    "递归<br>\n",
    "对于子序列R[low:pivot-1]与R[pivot+1：high]，分别调用快速排序算法来进行排序。<br>\n",
    "<br>\n",
    "复杂度：<br>\n",
    "平均情况下快速排序的**时间复杂度是Θ(nlgn)**，最坏情况是n2，但通过随机算法可以避免最坏情况。由于递归调用，快排的空间复杂度是Θ(lgn)。<br>\n",
    "当划分产生的两个子问题分别包含 n-1 和 0 个元素时，最坏情况发生。划分操作的时间复杂度为Θ(n)，T(0)=Θ(1)，这时算法运行时间的递归式为 T(n)=T(n−1)+T(0)+Θ(n)=T(n−1)+Θ(n)，解为T(n)=Θ(n2)。<br>\n",
    "当划分产生的两个子问题分别包含⌊n/2⌋和⌈n/2⌉−1个元素时，最好情况发生。算法运行时间递归式为 T(n)=2T(n/2)+Θ(n)，解为T(n)=Θ(nlgn)。<br>\n",
    "事实上只要划分是常数比例的，算法的运行时间总是O(nlgn)。 假设按照 9:1 划分，每层代价最多为 cn，递归深度为 log10/9n=Θ(lgn)，故排序的总代价为O(nlgn)。<br>\n",
    "平均情况下，比如一次坏的划分接着一次好的划分，坏的划分那一项可以合并到好的划分里，统计上来讲平均情况下的时间复杂度仍然是Θ(nlgn)。 更详细的平均情况下的讨论参见：算法导论-排序和顺序统计量。<br>\n",
    "快排的**空间复杂度是Θ(lgn)**，因为快排的实现是递归调用的， 而且每次函数调用中只使用了常数的空间，因此空间复杂度等于递归深度Θ(lgn)。"
   ]
  },
  {
   "cell_type": "code",
   "execution_count": 32,
   "metadata": {},
   "outputs": [
    {
     "name": "stdout",
     "output_type": "stream",
     "text": [
      "[60, 65, 54, 37, 77, 30, 27, 7, 70, 40]\n",
      "[7, 27, 30, 37, 40, 54, 60, 65, 70, 77]\n"
     ]
    }
   ],
   "source": [
    "from random import Random\n",
    "\n",
    "# 网上常见实现\n",
    "def quick_sort(array, left, right):\n",
    "    if left >= right:\n",
    "        return\n",
    "    low = left\n",
    "    high = right\n",
    "    key = array[low]\n",
    "    while left < right:\n",
    "        # 从后向前扫描让所有小于基准的数去左边\n",
    "        while left < right and array[right] > key:\n",
    "            right -= 1\n",
    "        array[left] = array[right]\n",
    "        # 从前向后扫描让所有大于基准的数去右边\n",
    "        while left < right and array[left] <= key:\n",
    "            left += 1\n",
    "        array[right] = array[left]\n",
    "    array[right] = key\n",
    "    quick_sort(array, low, left - 1)\n",
    "    quick_sort(array, left + 1, high)\n",
    "\n",
    "r = Random()\n",
    "a = []\n",
    "for i in range(10):\n",
    "    a.append(r.randint(0, 100))\n",
    "n = len(a)\n",
    "print(a)\n",
    "quick_sort(a,0,n-1)\n",
    "print(a)"
   ]
  },
  {
   "cell_type": "markdown",
   "metadata": {},
   "source": [
    "# MergeSort归并排序\n",
    "思想：分治。<br>\n",
    "原理：将已有序的子序列合并，得到完全有序的序列；即先使每个子序列有序，再使子序列段间有序。若将两个有序表合并成一个有序表，称为二路归并。<br>\n",
    "步骤：<br>\n",
    "比较a[i]和a[j]的大小，若a[i]≤a[j]，则将第一个有序表中的元素a[i]复制到r[k]中，并令i和k分别加上1；否则将第二个有序表中的元素a[j]复制到r[k]中，并令j和k分别加上1，如此循环下去，直到其中一个有序表取完，然后再将另一个有序表中剩余的元素复制到r中从下标k到下标t的单元。归并排序的算法我们通常用递归实现，先把待排序区间[s,t]以中点二分，接着把左边子区间排序，再把右边子区间排序，最后把左区间和右区间用一次归并操作合并成有序的区间[s,t]。<br>\n",
    "复杂度：<br>\n",
    "**时间复杂度是o(nlogn)**：总时间=分解时间+解决问题时间+合并时间。分解时间就是把一个待排序序列分解成两序列，时间为一常数，时间复杂度o(1).解决问题时间是两个递归式，把一个规模为n的问题分成两个规模分别为n/2的子问题，时间为2T(n/2).合并时间复杂度为o（n）。总时间T(n)=2T(n/2)+o(n).这个递归式可以用递归树来解:假设解决最后的子问题用时为常数c，则对于n个待排序记录来说整个问题的规模为cn。从这个递归树可以看出，第一层时间代价为cn，第二层时间代价为cn/2+cn/2=cn…..每一层代价都是cn，总共有logn+1层。所以总的时间代价为cn*(logn+1).时间复杂度是o(nlogn)。\n",
    "\n",
    "**空间复杂度为O(n)**: 注意这里统计的是消耗的最大内存。每个函数调用会搞出O(n)大的内存（也就是分裂成leftpad和rightpad），分别递归两次（注意是分别的）空间复杂度T(n)=O(n)+T(n/2)，由主定理得到总的空间复杂度是O(n)"
   ]
  },
  {
   "cell_type": "code",
   "execution_count": 33,
   "metadata": {},
   "outputs": [
    {
     "name": "stdout",
     "output_type": "stream",
     "text": [
      "[6, 74, 62, 37, 83, 51, 95, 69, 56, 48]\n",
      "[6, 37, 48, 51, 56, 62, 69, 74, 83, 95]\n"
     ]
    }
   ],
   "source": [
    "def merge_sort(lists):\n",
    "    if len(lists)<=1:\n",
    "        return lists\n",
    "    num = int(len(lists) / 2)\n",
    "    list_1 = merge_sort(lists[:num])\n",
    "    list_2 = merge_sort(lists[num:])\n",
    "    return merge(list_1, list_2)\n",
    "\n",
    "def merge(list_1, list_2):\n",
    "    i, j = 0,0\n",
    "    result = []\n",
    "    while i<len(list_1) and j<len(list_2):\n",
    "        if list_1[i]<=list_2[j]:\n",
    "            result.append(list_1[i])\n",
    "            i += 1\n",
    "        else:\n",
    "            result.append(list_2[j])\n",
    "            j += 1\n",
    "    result += list_1[i:]\n",
    "    result += list_2[j:]\n",
    "    return result\n",
    "\n",
    "b = []\n",
    "for i in range(10):\n",
    "    b.append(r.randint(0, 100))\n",
    "print(b)\n",
    "new_b = merge_sort(b)\n",
    "print(new_b)"
   ]
  },
  {
   "cell_type": "markdown",
   "metadata": {},
   "source": [
    "# radixSort基数排序\n",
    "又称“桶子法”（bucket sort）或bin sort，顾名思义，它是透过键值的部份资讯，将要排序的元素分配至某些“桶”中，藉以达到排序的作用，基数排序法是属于稳定性的排序，其时间复杂度为O (nlog(r)m)，其中r为所采取的基数，而m为堆数，在某些时候，基数排序法的效率高于其它的稳定性排序法。"
   ]
  },
  {
   "cell_type": "code",
   "execution_count": null,
   "metadata": {},
   "outputs": [],
   "source": [
    "import math\n",
    "def radix_sort(lists, radix=10):\n",
    "    k = int(math.ceil(math.log(max(lists))))"
   ]
  }
 ],
 "metadata": {
  "kernelspec": {
   "display_name": "Python 3",
   "language": "python",
   "name": "python3"
  },
  "language_info": {
   "codemirror_mode": {
    "name": "ipython",
    "version": 3
   },
   "file_extension": ".py",
   "mimetype": "text/x-python",
   "name": "python",
   "nbconvert_exporter": "python",
   "pygments_lexer": "ipython3",
   "version": "3.7.6"
  }
 },
 "nbformat": 4,
 "nbformat_minor": 4
}
