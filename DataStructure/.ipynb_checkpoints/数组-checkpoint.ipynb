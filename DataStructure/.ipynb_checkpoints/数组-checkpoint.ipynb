{
 "cells": [
  {
   "cell_type": "markdown",
   "metadata": {},
   "source": [
    "## 数组反转"
   ]
  },
  {
   "cell_type": "code",
   "execution_count": 1,
   "metadata": {},
   "outputs": [
    {
     "name": "stdout",
     "output_type": "stream",
     "text": [
      "[3, 2, 1]\n"
     ]
    }
   ],
   "source": [
    "a = [1,2,3]\n",
    "a = a[::-1]\n",
    "print(a)"
   ]
  },
  {
   "cell_type": "markdown",
   "metadata": {},
   "source": [
    "## 数组旋转k步"
   ]
  },
  {
   "cell_type": "code",
   "execution_count": 3,
   "metadata": {},
   "outputs": [
    {
     "name": "stdout",
     "output_type": "stream",
     "text": [
      "[5, 7, 1, 2, 4]\n"
     ]
    }
   ],
   "source": [
    "def rotate(nums,k):\n",
    "    lenth = len(nums) -1\n",
    "    if lenth<1 or k<1:\n",
    "        return \n",
    "    #暴力方法，将后面的删掉插到前面\n",
    "    for i in range(k):\n",
    "        nums.insert(0,nums[lenth]) #将最后一个插到前面来\n",
    "        del nums[lenth + 1]#多个一个数所以lenth+1，将插到前面的数字删除\n",
    "    return nums\n",
    "list= [1,2,4,5,7]\n",
    "print(rotate(list,2))"
   ]
  },
  {
   "cell_type": "markdown",
   "metadata": {},
   "source": [
    "## 删除排序数组中重复元素"
   ]
  },
  {
   "cell_type": "code",
   "execution_count": 6,
   "metadata": {},
   "outputs": [
    {
     "name": "stdout",
     "output_type": "stream",
     "text": [
      "[1, 2, 3, 5]\n"
     ]
    }
   ],
   "source": [
    "# 如果不是排序数组就先sort\n",
    "def delete(nums):\n",
    "    i=0\n",
    "    while i<len(nums)-1:\n",
    "        if nums[i]==nums[i+1]:\n",
    "            nums.remove(nums[i])\n",
    "        else:\n",
    "            i=i+1\n",
    "    return nums\n",
    "repeated_list = [1,1,2,3,3,3,5]\n",
    "print(delete(repeated_list))"
   ]
  },
  {
   "cell_type": "markdown",
   "metadata": {},
   "source": [
    "## 买卖股票的最佳时机"
   ]
  },
  {
   "cell_type": "code",
   "execution_count": null,
   "metadata": {},
   "outputs": [],
   "source": [
    "# 如果你最多只允许完成一次交易,设计一个算法来找出最大利润\n",
    "# 记录最小值和最大利润\n",
    "def maxProfit1(prices):\n",
    "    minPrice = 0\n",
    "    maxProfit = 0\n",
    "    for i in prices:\n",
    "        if i < minPrice:\n",
    "            minPrice = i\n",
    "        if i-minPrice > maxProfit:\n",
    "            maxProfit = i-minPrice\n",
    "    return maxProfit\n",
    "\n",
    "\n",
    "# 可以多次交易，但购买前要卖掉上次的\n",
    "# 将多天的持有转化为相邻的连续操作\n",
    "def maxProfit2(prices: List[int]) -> int:\n",
    "    profit = 0\n",
    "    for i in range(1, len(prices)):\n",
    "        tmp = prices[i] - prices[i - 1]\n",
    "        if tmp > 0: \n",
    "            profit += tmp\n",
    "    return profit\n"
   ]
  },
  {
   "cell_type": "markdown",
   "metadata": {},
   "source": [
    "## 两数之和：找出数组中和为目标值的两个数"
   ]
  },
  {
   "cell_type": "code",
   "execution_count": null,
   "metadata": {},
   "outputs": [],
   "source": [
    "#你可以假设每个输入只对应一种答案，且同样的元素不能被重复利用，返还的是两个Index。\n",
    "# 哈希思想\n",
    "def twoSum(nums, target):\n",
    "    hashmap = {}\n",
    "    for ind,num in enumerate(nums):\n",
    "        hashmap[num] = ind\n",
    "    for i,num in enumerate(nums):\n",
    "        j = hashmap.get(target - num)\n",
    "        if j is not None and i!=j:\n",
    "            return [i,j]"
   ]
  }
 ],
 "metadata": {
  "kernelspec": {
   "display_name": "Python 3",
   "language": "python",
   "name": "python3"
  },
  "language_info": {
   "codemirror_mode": {
    "name": "ipython",
    "version": 3
   },
   "file_extension": ".py",
   "mimetype": "text/x-python",
   "name": "python",
   "nbconvert_exporter": "python",
   "pygments_lexer": "ipython3",
   "version": "3.7.6"
  }
 },
 "nbformat": 4,
 "nbformat_minor": 4
}
