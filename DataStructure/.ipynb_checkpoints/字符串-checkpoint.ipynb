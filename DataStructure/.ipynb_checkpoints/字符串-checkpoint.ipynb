{
 "cells": [
  {
   "cell_type": "markdown",
   "metadata": {},
   "source": [
    "## 最长公共前缀"
   ]
  },
  {
   "cell_type": "code",
   "execution_count": null,
   "metadata": {},
   "outputs": [],
   "source": [
    "class Solution:\n",
    "    def longestCommonPrefix(self, strs: List[str]) -> str:\n",
    "        if not strs:\n",
    "            return \"\"\n",
    "        \n",
    "        prefix, count = strs[0], len(strs)\n",
    "        for i in range(1, count):\n",
    "            prefix = self.lcp(prefix, strs[i])\n",
    "            if not prefix:\n",
    "                break\n",
    "        \n",
    "        return prefix\n",
    "\n",
    "    def lcp(self, str1, str2):\n",
    "        length, index = min(len(str1), len(str2)), 0\n",
    "        while index < length and str1[index] == str2[index]:\n",
    "            index += 1\n",
    "        return str1[:index]\n"
   ]
  }
 ],
 "metadata": {
  "kernelspec": {
   "display_name": "Python 3",
   "language": "python",
   "name": "python3"
  },
  "language_info": {
   "codemirror_mode": {
    "name": "ipython",
    "version": 3
   },
   "file_extension": ".py",
   "mimetype": "text/x-python",
   "name": "python",
   "nbconvert_exporter": "python",
   "pygments_lexer": "ipython3",
   "version": "3.7.6"
  }
 },
 "nbformat": 4,
 "nbformat_minor": 4
}
