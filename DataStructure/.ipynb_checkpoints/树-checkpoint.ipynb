{
 "cells": [
  {
   "cell_type": "markdown",
   "metadata": {},
   "source": [
    "## 建立二叉树"
   ]
  },
  {
   "cell_type": "code",
   "execution_count": null,
   "metadata": {},
   "outputs": [],
   "source": [
    "class node():\n",
    "    def __init__(self, k=None, l=None, r=None):\n",
    "        self.val = k\n",
    "        self.left = l\n",
    "        self.right = r\n",
    "#它其实创建过程也是从根开始a开始，创左子树b，再创b的左子树，如果b的左子树为空，返回none，再接着创建b的右子树，\n",
    "def listcreattree(root,llist,i):###用列表递归创建二叉树，\n",
    "    if i<len(llist):\n",
    "        if llist[i] =='#':\n",
    "            return None ###这里的return很重要\n",
    "        else:\n",
    "            root=node(k=llist[i])\n",
    "            print i\n",
    "            root.left=listcreattree(root.left,llist,2*i+1)\n",
    "            root.right=listcreattree(root.right, llist,2*i+2)\n",
    "            return root  ###这里的return很重要\n",
    "    return root\n",
    "\n",
    "if __name__ == '__main__':\n",
    "    root=node()\n",
    "    llist=['1','2','3','#','4','5']\n",
    "    root=listcreattree(root,llist,0)"
   ]
  }
 ],
 "metadata": {
  "kernelspec": {
   "display_name": "Python 3",
   "language": "python",
   "name": "python3"
  },
  "language_info": {
   "codemirror_mode": {
    "name": "ipython",
    "version": 3
   },
   "file_extension": ".py",
   "mimetype": "text/x-python",
   "name": "python",
   "nbconvert_exporter": "python",
   "pygments_lexer": "ipython3",
   "version": "3.7.6"
  }
 },
 "nbformat": 4,
 "nbformat_minor": 4
}
