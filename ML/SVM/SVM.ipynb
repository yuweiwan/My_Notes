{
 "cells": [
  {
   "cell_type": "markdown",
   "metadata": {},
   "source": [
    "# SVM 支持向量机 \n",
    "\n",
    "通过支持向量分类的二分类模型（判别模型），它的目的是寻找一个超平面来对样本进行分割，分割的依据是**间隔最大化**，最终转化为一个**凸二次规划问题**来求解。  \n",
    "基本模型是线性的，加核技巧(kernel)就是非线性分类器。"
   ]
  },
  {
   "cell_type": "markdown",
   "metadata": {},
   "source": [
    "## 最大间隔超平面\n",
    "\n",
    "能够将点集 $D_0$ 与 $D_1$ 完全正确分开的 $f(x)=wx+b = 0$ 就成了一个超平面。  \n",
    "### 函数间隔\n",
    "我们要找的超平面不仅能够对数据点进行一个准确的分割（不一定唯一），同时我们希望所有的点尽量都能够远离我们的超平面（只要有就是唯一的）。  \n",
    "函数间隔定义为$y(wx+b)$，也就是类别标签乘f(x)的值。但是选超平面时，只有函数间隔还不够，因为如果成比例的改变 w 和 b，如将他们改变为 2w 和 2b，虽然此时超平面没有改变，但函数间隔却变成了原来的 4 倍。所以我们用的是几何间隔。\n",
    "### 几何间隔\n"
   ]
  },
  {
   "cell_type": "code",
   "execution_count": null,
   "metadata": {},
   "outputs": [],
   "source": []
  }
 ],
 "metadata": {
  "kernelspec": {
   "display_name": "Python 3",
   "language": "python",
   "name": "python3"
  },
  "language_info": {
   "codemirror_mode": {
    "name": "ipython",
    "version": 3
   },
   "file_extension": ".py",
   "mimetype": "text/x-python",
   "name": "python",
   "nbconvert_exporter": "python",
   "pygments_lexer": "ipython3",
   "version": "3.7.6"
  }
 },
 "nbformat": 4,
 "nbformat_minor": 4
}
