{
 "cells": [
  {
   "cell_type": "markdown",
   "metadata": {},
   "source": [
    "# 感知机\n",
    "一种二类分类的线性分类模型，其输入为实例的特征向量，输出为实例的类别，+1代表正类，-1代表负类。它的目标是要将输入实例通过分离超平面将正负二类分离。可以拟合任何线性函数。\n",
    "$$\n",
    "f(x) = sign(w^Tx) \\\\\n",
    "sign(a) = \\begin{cases} +1, & a \\ge 0 \\\\ -1, & a < 0 \\end{cases}\n",
    "$$\n",
    "如何判断一个点是否被正确分类：\n",
    "<br>我们可以通过  $y_iw^Tx_i < 0$ 来得出一个点是误分类点。\n",
    "<br>损失函数：所有感知机采取的是误分类点到超平面S的总距离。\n",
    "$$\n",
    "L(w,b) = - \\sum_{x_i \\in M  }{y_i w^Tx_i }\n",
    "$$\n",
    "通过随机梯度下降法来求解:\n",
    "$$\n",
    "w \\leftarrow  w + \\eta y_i x_i\n",
    "$$"
   ]
  }
 ],
 "metadata": {
  "kernelspec": {
   "display_name": "Python 3",
   "language": "python",
   "name": "python3"
  },
  "language_info": {
   "codemirror_mode": {
    "name": "ipython",
    "version": 3
   },
   "file_extension": ".py",
   "mimetype": "text/x-python",
   "name": "python",
   "nbconvert_exporter": "python",
   "pygments_lexer": "ipython3",
   "version": "3.7.6"
  }
 },
 "nbformat": 4,
 "nbformat_minor": 4
}
