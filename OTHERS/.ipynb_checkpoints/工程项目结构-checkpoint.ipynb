{
 "cells": [
  {
   "cell_type": "markdown",
   "metadata": {},
   "source": [
    "# 主目录\n",
    "## data: 数据存放目录\n",
    "## saved_model: 模型存放目录\n",
    "## logs: 日志存放目录\n",
    "## src: 核心代码部分\n",
    "data_process: 数据处理部分<br>\n",
    "DL或ML: 包含各类深度学习模型<br>\n",
    "utils: 包含配置文件config.py，特征工程函数feature.py，以及通用函数tools.py，或评价指标函数metrics.py<br>\n",
    "word2vec: 包含各类embedding的训练，保存加载。<br>\n",
    "## app.py: 代码部署部分"
   ]
  },
  {
   "cell_type": "code",
   "execution_count": null,
   "metadata": {},
   "outputs": [],
   "source": []
  }
 ],
 "metadata": {
  "kernelspec": {
   "display_name": "Python 3",
   "language": "python",
   "name": "python3"
  },
  "language_info": {
   "codemirror_mode": {
    "name": "ipython",
    "version": 3
   },
   "file_extension": ".py",
   "mimetype": "text/x-python",
   "name": "python",
   "nbconvert_exporter": "python",
   "pygments_lexer": "ipython3",
   "version": "3.7.6"
  }
 },
 "nbformat": 4,
 "nbformat_minor": 4
}
